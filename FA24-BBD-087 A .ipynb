{
 "cells": [
  {
   "cell_type": "markdown",
   "id": "9e92f4c5-af13-4faa-8c93-aa9ddca66b9c",
   "metadata": {},
   "source": [
    "# Classes in Python "
   ]
  },
  {
   "cell_type": "markdown",
   "id": "e4aaf3f8-cfa2-450f-926b-67e209bb5b35",
   "metadata": {},
   "source": [
    "# Question no.1\n",
    "# Create a class Person with attributes name, age, and city."
   ]
  },
  {
   "cell_type": "code",
   "execution_count": 39,
   "id": "57c10237-b02a-4077-b367-7e9174a323b5",
   "metadata": {},
   "outputs": [
    {
     "name": "stdout",
     "output_type": "stream",
     "text": [
      "mishaym\n",
      "mishaym is happy.\n"
     ]
    }
   ],
   "source": [
    "class person:\n",
    "    def __init__(self,name,age,city):\n",
    "         self.name= name\n",
    "         self.age= age\n",
    "         self.city= city\n",
    "    def happy(self):\n",
    "        print(f\"{self.name} is happy.\")\n",
    "my_person =person('mishaym',18,'lahore')\n",
    "print(my_person.name)\n",
    "my_person.happy()"
   ]
  },
  {
   "cell_type": "markdown",
   "id": "6136013b-2ff0-4c9e-92c9-c93f33c31cc0",
   "metadata": {},
   "source": [
    "# Question no.2\n",
    "# Create a class Car with attributes make, model, and year."
   ]
  },
  {
   "cell_type": "code",
   "execution_count": 47,
   "id": "96ff3157-b639-4734-b6e4-89433be43500",
   "metadata": {},
   "outputs": [
    {
     "name": "stdout",
     "output_type": "stream",
     "text": [
      "mclaren\n",
      "mclaren is futuristic.\n"
     ]
    }
   ],
   "source": [
    "class car:\n",
    "    def __init__(self,make,model,year):\n",
    "        self.make= make\n",
    "        self.model= model \n",
    "        self.year= year\n",
    "    def futuristic(self):\n",
    "        print(f\"{self.model} is futuristic.\")\n",
    "my_car =car('gt','mclaren',720)\n",
    "print(my_car.model)\n",
    "my_car.futuristic()"
   ]
  },
  {
   "cell_type": "markdown",
   "id": "53e5bf99-3605-4354-805e-c32c3447195f",
   "metadata": {},
   "source": [
    "# Question no.3\n",
    "# Create a class Circle with attributes radius and methods to calculate area and circumference."
   ]
  },
  {
   "cell_type": "code",
   "execution_count": 57,
   "id": "5d22fec4-09ed-4d55-97a1-5da581ab3e5f",
   "metadata": {},
   "outputs": [
    {
     "name": "stdout",
     "output_type": "stream",
     "text": [
      "Area of the circle :314.1592653589793\n",
      "Circumference of the circle:62.83185307179586\n"
     ]
    }
   ],
   "source": [
    "import math\n",
    "class circle:\n",
    "    def __init__(self,radius):\n",
    "        self.radius= radius\n",
    "    def area(self):\n",
    "        return math.pi * self.radius**2\n",
    "    def circumference(self):\n",
    "        return 2 * math.pi * self.radius\n",
    "my_circle=circle(10)\n",
    "print(f\"Area of the circle :{my_circle.area()}\")\n",
    "print(f\"Circumference of the circle:{my_circle.circumference()}\")"
   ]
  },
  {
   "cell_type": "markdown",
   "id": "1fce7640-99de-4b00-ad5e-ead4b264bccb",
   "metadata": {},
   "source": [
    "# Queston no.4\n",
    "# Create a class Rectangle with attributes length and width and methods to calculate area and perimeter."
   ]
  },
  {
   "cell_type": "code",
   "execution_count": 61,
   "id": "3ee9520a-330d-45e8-817a-683f47c4157a",
   "metadata": {},
   "outputs": [
    {
     "name": "stdout",
     "output_type": "stream",
     "text": [
      "Rectangle area: 15\n",
      "Rectangle perimeter: 16\n"
     ]
    }
   ],
   "source": [
    "class Rectangle:\n",
    "    def __init__(self, length, width):\n",
    "        self.length = length\n",
    "        self.width = width\n",
    "    def area(self):\n",
    "        return self.length * self.width \n",
    "    def perimeter(self):\n",
    "        return 2 * (self.length + self.width)\n",
    "rectangle = Rectangle(length=3, width=5)\n",
    "print(f\"Rectangle area: {rectangle.area()}\")\n",
    "print(f\"Rectangle perimeter: {rectangle.perimeter()}\")   "
   ]
  },
  {
   "cell_type": "markdown",
   "id": "431e3752-93ab-4d1b-85f9-941a1839d1f6",
   "metadata": {},
   "source": [
    "# Question no.5\n",
    "# Create a class Book with attributes title, author, and publication_year."
   ]
  },
  {
   "cell_type": "code",
   "execution_count": 68,
   "id": "58e38da0-691c-4287-b5c0-95c7bac75f57",
   "metadata": {},
   "outputs": [
    {
     "name": "stdout",
     "output_type": "stream",
     "text": [
      "Student Tasmiyyah (Roll No: 112)\n",
      "Average Marks: 86.80\n"
     ]
    }
   ],
   "source": [
    "class Student:\n",
    "    def __init__(self, name, roll_number, marks):\n",
    "        self.name = name\n",
    "        self.roll_number = roll_number\n",
    "        self.marks = marks\n",
    "    def average_marks(self):\n",
    "        return sum(self.marks) / len(self.marks)\n",
    "    def __str__(self):\n",
    "        return f\"Student {self.name} (Roll No: {self.roll_number})\"\n",
    "student1=Student(\"Tasmiyyah\",112,[87,88,70,96,93])\n",
    "print(student1)\n",
    "print(f\"Average Marks: {student1.average_marks():.2f}\")"
   ]
  },
  {
   "cell_type": "markdown",
   "id": "f2169b28-e9cb-4726-9b9d-963fc01e7380",
   "metadata": {},
   "source": [
    "# Question no.6\n",
    "# Create a class Book with attributes title, author, and publication_year."
   ]
  },
  {
   "cell_type": "code",
   "execution_count": 83,
   "id": "081a40f6-87c5-4427-8246-03c5c2ffc37f",
   "metadata": {},
   "outputs": [
    {
     "name": "stdout",
     "output_type": "stream",
     "text": [
      "('Pride and Prejudice' by Jane Austen) (1813)\n"
     ]
    }
   ],
   "source": [
    "class Book:\n",
    "    def __init__(self, title, author, publication_year):\n",
    "        self.title = title\n",
    "        self.author = author\n",
    "        self.publication_year = publication_year\n",
    "    def __str__(self):\n",
    "        return (f\"('{self.title}' by {self.author}) ({self.publication_year})\")\n",
    "book1 = Book(\"Pride and Prejudice\", \"Jane Austen\", 1813)\n",
    "print(book1)"
   ]
  },
  {
   "cell_type": "markdown",
   "id": "87b6c42e-5a95-402f-823b-febac0c03ccb",
   "metadata": {},
   "source": [
    "# Question no.7\n",
    "# Create a class Employee with attributes name, salary, and designation."
   ]
  },
  {
   "cell_type": "code",
   "execution_count": 86,
   "id": "80c36149-95c3-47f0-a6bc-33406af88f4d",
   "metadata": {},
   "outputs": [
    {
     "name": "stdout",
     "output_type": "stream",
     "text": [
      "Employee Zohaib, Designation: Software Engineer, Salary: 400000.00\n"
     ]
    }
   ],
   "source": [
    "class Employee:\n",
    "    def __init__(self,name,salary,designation):\n",
    "        self.name = name\n",
    "        self.salary = salary\n",
    "        self.designation = designation\n",
    "    def __str__(self):\n",
    "         return f\"Employee {self.name}, Designation: {self.designation}, Salary: {self.salary:.2f}\"\n",
    "employee = Employee(\"Zohaib\", 400000, \"Software Engineer\")\n",
    "print(employee)"
   ]
  },
  {
   "cell_type": "markdown",
   "id": "0c27f460-682d-4c42-9faa-f49e40ed04e9",
   "metadata": {},
   "source": [
    "# Question no.8\n",
    "# Create a class Bank with attributes name, account_number, and balance. Implement methods to deposit and withdraw money."
   ]
  },
  {
   "cell_type": "code",
   "execution_count": 109,
   "id": "9a227bbf-b236-413c-9f96-4b9bdd865bbb",
   "metadata": {},
   "outputs": [
    {
     "name": "stdout",
     "output_type": "stream",
     "text": [
      "Account Holder: Tasmiyyah, Account Number: 343526791, Balance: 50000.00\n"
     ]
    },
    {
     "data": {
      "text/plain": [
       "49000"
      ]
     },
     "execution_count": 109,
     "metadata": {},
     "output_type": "execute_result"
    }
   ],
   "source": [
    "class Bank:\n",
    "    def __init__(self, name, account_number, balance=0):\n",
    "        self.name = name\n",
    "        self.account_number = account_number\n",
    "        self.balance = balance\n",
    "    \n",
    "    def deposit(self, amount):\n",
    "        self.balance += amount\n",
    "        return self.balance\n",
    "    \n",
    "    def withdraw(self, amount):\n",
    "        if amount <= self.balance:\n",
    "            self.balance -= amount\n",
    "            return self.balance\n",
    "        else:\n",
    "            return \"Insufficient balance\"\n",
    "    def __str__(self):\n",
    "         return f\"Account Holder: {self.name}, Account Number: {self.account_number}, Balance: {self.balance:.2f}\" \n",
    "account = Bank(\"Tasmiyyah\", \"343526791\", 50000)\n",
    "print(account)\n",
    "account.deposit(1000)\n",
    "account.withdraw(500)\n",
    "account.withdraw(1500)    "
   ]
  },
  {
   "cell_type": "markdown",
   "id": "0a472a89-40bd-4375-99ca-a849102a1b25",
   "metadata": {},
   "source": [
    "# Question no.9\n",
    "#  Create a class Shape with a method to calculate area. Create subclasses Circle, Rectangle, and Triangle that inherit from Shape and implement their specific area calculations."
   ]
  },
  {
   "cell_type": "code",
   "execution_count": 111,
   "id": "0e2415f1-b3c1-4c4f-b828-d867812f4aa2",
   "metadata": {},
   "outputs": [
    {
     "name": "stdout",
     "output_type": "stream",
     "text": [
      "Circle area: 201.06\n",
      "Rectangle area: 40.00\n",
      "Triangle area: 9.00\n"
     ]
    }
   ],
   "source": [
    "class Shape:\n",
    "    def area(self):\n",
    "        raise NotImplementedError(\"Subclasses must implement this method.\")\n",
    "class Circle(Shape):\n",
    "    def __init__(self, radius):\n",
    "        self.radius = radius\n",
    "\n",
    "    def area(self):\n",
    "        return 3.14159 * self.radius**2\n",
    "class Rectangle(Shape):\n",
    "    def __init__(self, length, width):\n",
    "        self.length = length\n",
    "        self.width = width\n",
    "    def area(self):\n",
    "        return self.length * self.width\n",
    "class Triangle(Shape):\n",
    "    def __init__(self, base, height):\n",
    "        self.base = base\n",
    "        self.height = height\n",
    "    def area(self):\n",
    "        return 0.5 * self.base * self.height\n",
    "circle = Circle(8)\n",
    "rectangle = Rectangle(10, 4)\n",
    "triangle = Triangle(6, 3)\n",
    "print(f\"Circle area: {circle.area():.2f}\")\n",
    "print(f\"Rectangle area: {rectangle.area():.2f}\")\n",
    "print(f\"Triangle area: {triangle.area():.2f}\")"
   ]
  },
  {
   "cell_type": "code",
   "execution_count": null,
   "id": "22e7f5f8-0aaa-413b-a2a0-4fbbdb4b87f6",
   "metadata": {},
   "outputs": [],
   "source": []
  }
 ],
 "metadata": {
  "kernelspec": {
   "display_name": "Python 3 (ipykernel)",
   "language": "python",
   "name": "python3"
  },
  "language_info": {
   "codemirror_mode": {
    "name": "ipython",
    "version": 3
   },
   "file_extension": ".py",
   "mimetype": "text/x-python",
   "name": "python",
   "nbconvert_exporter": "python",
   "pygments_lexer": "ipython3",
   "version": "3.12.7"
  }
 },
 "nbformat": 4,
 "nbformat_minor": 5
}
